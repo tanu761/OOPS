{
  "nbformat": 4,
  "nbformat_minor": 0,
  "metadata": {
    "colab": {
      "provenance": []
    },
    "kernelspec": {
      "name": "python3",
      "display_name": "Python 3"
    },
    "language_info": {
      "name": "python"
    }
  },
  "cells": [
    {
      "cell_type": "markdown",
      "source": [
        "# *OOPS ASSIGNMENT"
      ],
      "metadata": {
        "id": "PZRCNGMjCs7W"
      }
    },
    {
      "cell_type": "markdown",
      "source": [
        "QUES 1..\n",
        "\n",
        "ANS..  OOPS       is a programming paradigm based on the concept of objects, which encapsulate data (attributes) and behavior (methods). It promotes reusability, modularity, and scalability."
      ],
      "metadata": {
        "id": "W1IBpqiBC1bh"
      }
    },
    {
      "cell_type": "markdown",
      "source": [
        "QUES 2\n",
        "\n",
        "ANS A class is a blueprint for creating objects. It defines attributes (variables) and methods (functions)."
      ],
      "metadata": {
        "id": "XFy0CRzxDKNy"
      }
    },
    {
      "cell_type": "code",
      "source": [
        "class Car:\n",
        "    def __init__(self, brand, model):\n",
        "        self.brand = brand\n",
        "        self.model = model\n"
      ],
      "metadata": {
        "id": "pPp2Kg9_DQtU"
      },
      "execution_count": 1,
      "outputs": []
    },
    {
      "cell_type": "markdown",
      "source": [
        "QUES 3\n",
        "\n",
        "ANS ..An object is an instance of a class. It represents real-world entities."
      ],
      "metadata": {
        "id": "cyVzdFVkDXLl"
      }
    },
    {
      "cell_type": "code",
      "source": [
        "car1 = Car(\"Toyota\", \"Innova\")\n"
      ],
      "metadata": {
        "id": "uOke-SSDDggA"
      },
      "execution_count": 2,
      "outputs": []
    },
    {
      "cell_type": "markdown",
      "source": [
        "QUES 4\n",
        "\n",
        "ANS ..Abstraction → Hides implementation details, shows only functionality (abstract classes, interfaces).\n",
        "\n",
        "Encapsulation → Binding data and methods together, restricting direct access (private/protected attributes)."
      ],
      "metadata": {
        "id": "0CJY2m98Djl_"
      }
    },
    {
      "cell_type": "markdown",
      "source": [
        "QUES 5\n",
        "\n",
        "ANS..Special methods starting and ending with __ (double underscore).\n",
        "Example: __init__, __str__, __add__."
      ],
      "metadata": {
        "id": "vo5vq2W9Dp0K"
      }
    },
    {
      "cell_type": "markdown",
      "source": [
        "QUES 6\n",
        "\n",
        "ANS..Inheritance allows a class to inherit properties and methods from another class."
      ],
      "metadata": {
        "id": "Zn3BFneLD2j3"
      }
    },
    {
      "cell_type": "code",
      "source": [
        "class Animal:\n",
        "    def speak(self):\n",
        "        print(\"Generic sound\")\n",
        "\n",
        "class Dog(Animal):\n",
        "    def speak(self):\n",
        "        print(\"Bark!\")\n"
      ],
      "metadata": {
        "id": "UnBUqZCsD9Id"
      },
      "execution_count": 3,
      "outputs": []
    },
    {
      "cell_type": "markdown",
      "source": [
        "QUES 7\n",
        "\n",
        "ANS..Polymorphism means the same method name can behave differently depending on the object."
      ],
      "metadata": {
        "id": "C6RGihKbEAMb"
      }
    },
    {
      "cell_type": "markdown",
      "source": [
        "QUES.8\n",
        "\n",
        "ANS..By using private attributes (__attribute) and getter/setter methods."
      ],
      "metadata": {
        "id": "1zBW0SgDEIBZ"
      }
    },
    {
      "cell_type": "markdown",
      "source": [
        "QUES.9\n",
        "\n",
        "ANS..__init__() is the constructor, automatically called when creating an object."
      ],
      "metadata": {
        "id": "PDXMnxaPEP5l"
      }
    },
    {
      "cell_type": "markdown",
      "source": [
        "QUES.10\n",
        "\n",
        "ANS..Class method → Works with class variables (@classmethod).\n",
        "\n",
        "Static method → Independent, no access to class/instance (@staticmethod)."
      ],
      "metadata": {
        "id": "gt4HSEmKEVJN"
      }
    },
    {
      "cell_type": "markdown",
      "source": [
        "QUES.11\n",
        "\n",
        "ANS..Python doesn’t support traditional overloading but can use default arguments or *args."
      ],
      "metadata": {
        "id": "Mtyt0zkFEasu"
      }
    },
    {
      "cell_type": "markdown",
      "source": [
        "QUES.12\n",
        "\n",
        "ANS..Subclass provides its own version of a method defined in the parent class."
      ],
      "metadata": {
        "id": "2Wyot_wNEhb5"
      }
    },
    {
      "cell_type": "markdown",
      "source": [
        "QUES.13\n",
        "\n",
        "ANS..Used to make methods act like attributes with @property."
      ],
      "metadata": {
        "id": "QcLRQjQkFASl"
      }
    },
    {
      "cell_type": "markdown",
      "source": [
        "QUES.14\n",
        "\n",
        "ANS..It allows flexibility and code reusability when working with different objects."
      ],
      "metadata": {
        "id": "0gMqL606FGQF"
      }
    },
    {
      "cell_type": "markdown",
      "source": [
        "QUES.15\n",
        "\n",
        "ANS..A class with abstract methods (defined using abc module) that must be implemented by child classes."
      ],
      "metadata": {
        "id": "YzKAY7t5FNaE"
      }
    },
    {
      "cell_type": "markdown",
      "source": [
        "QUES.16\n",
        "\n",
        "ANS..Advantages of OOP\n",
        "\n",
        "Code reusability\n",
        "\n",
        "Modularity\n",
        "\n",
        "Encapsulation (security)\n",
        "\n",
        "Easy maintenance"
      ],
      "metadata": {
        "id": "ZDow2dzlFT98"
      }
    },
    {
      "cell_type": "markdown",
      "source": [
        "QUES.17\n",
        "\n",
        "ANS..Difference between class variable and instance variable?\n",
        "\n",
        "Class variable: Shared across all objects.\n",
        "\n",
        "Instance variable: Unique for each object."
      ],
      "metadata": {
        "id": "sYtfZCwOFb3M"
      }
    },
    {
      "cell_type": "markdown",
      "source": [
        "QUES.18\n",
        "\n",
        "ANS..A class inherits from more than one parent class."
      ],
      "metadata": {
        "id": "W_7GVHWuFmsa"
      }
    },
    {
      "cell_type": "markdown",
      "source": [
        "QUES.19\n",
        "\n",
        "ANS..Purpose of __str__ and __repr__?\n",
        "\n",
        "__str__ → Human-readable output.\n",
        "\n",
        "__repr__ → Developer-readable output."
      ],
      "metadata": {
        "id": "xqPqCUIfFu-B"
      }
    },
    {
      "cell_type": "markdown",
      "source": [
        "QUES.20\n",
        "\n",
        "ANS..Used to call the parent class’s method/constructor."
      ],
      "metadata": {
        "id": "W3WoeSQPF1QI"
      }
    },
    {
      "cell_type": "markdown",
      "source": [
        "QUES.21\n",
        "\n",
        "ANS..Destructor, called when an object is deleted (cleanup memory)."
      ],
      "metadata": {
        "id": "WNg4LVQ5F6By"
      }
    },
    {
      "cell_type": "markdown",
      "source": [
        "QUES.22\n",
        "\n",
        "ANS..Difference between @staticmethod and @classmethod?\n",
        "\n",
        "@staticmethod: No cls or self.\n",
        "\n",
        "@classmethod: Takes cls parameter, works with class data."
      ],
      "metadata": {
        "id": "bM92SjGpF-yl"
      }
    },
    {
      "cell_type": "markdown",
      "source": [
        "QUES.23\n",
        "\n",
        "ANS..Subclass overrides parent method → method resolution order (MRO)."
      ],
      "metadata": {
        "id": "e_Nsvtl-GDm3"
      }
    },
    {
      "cell_type": "markdown",
      "source": [
        "QUES.24\n",
        "\n",
        "ANS..Calling multiple methods on the same object in a single line by returning self."
      ],
      "metadata": {
        "id": "hnt6l6p4GH-J"
      }
    },
    {
      "cell_type": "markdown",
      "source": [
        "QUES.25\n",
        "\n",
        "ANS..Purpose of __call__ method?\n",
        "\n",
        "Allows objects to be called like functions."
      ],
      "metadata": {
        "id": "6q_yWg3eGZbb"
      }
    },
    {
      "cell_type": "markdown",
      "source": [
        "*✅ Java + **DSA**"
      ],
      "metadata": {
        "id": "jKzmRXTVGcX_"
      }
    },
    {
      "cell_type": "markdown",
      "source": [
        "QUES.1\n",
        "\n",
        "ANS."
      ],
      "metadata": {
        "id": "vcGtzinkGmTC"
      }
    },
    {
      "cell_type": "code",
      "source": [
        "class Animal:\n",
        "    def speak(self):\n",
        "        print(\"Generic sound\")\n",
        "\n",
        "class Dog(Animal):\n",
        "    def speak(self):\n",
        "        print(\"Bark!\")\n",
        "\n",
        "# Testing\n",
        "a = Animal()\n",
        "a.speak()   # Output: Generic sound\n",
        "\n",
        "d = Dog()\n",
        "d.speak()   # Output: Bark!\n",
        "\n",
        "# Polymorphism\n",
        "obj = Dog()\n",
        "obj.speak()  # Output: Bark!\n"
      ],
      "metadata": {
        "colab": {
          "base_uri": "https://localhost:8080/"
        },
        "id": "TR26D9a-Hcg4",
        "outputId": "d2d64b98-9061-4090-b90e-978fa856f16d"
      },
      "execution_count": 7,
      "outputs": [
        {
          "output_type": "stream",
          "name": "stdout",
          "text": [
            "Generic sound\n",
            "Bark!\n",
            "Bark!\n"
          ]
        }
      ]
    },
    {
      "cell_type": "markdown",
      "source": [
        "QUES.2\n",
        "\n",
        "ANS.."
      ],
      "metadata": {
        "id": "2NBbpqhgHftL"
      }
    },
    {
      "cell_type": "code",
      "source": [
        "from abc import ABC, abstractmethod\n",
        "\n",
        "class Shape(ABC):\n",
        "    @abstractmethod\n",
        "    def area(self):\n",
        "        pass\n",
        "\n",
        "class Circle(Shape):\n",
        "    def __init__(self, radius):\n",
        "        self.radius = radius\n",
        "    def area(self):\n",
        "        return 3.14 * self.radius * self.radius\n",
        "\n",
        "class Rectangle(Shape):\n",
        "    def __init__(self, length, breadth):\n",
        "        self.length = length\n",
        "        self.breadth = breadth\n",
        "    def area(self):\n",
        "        return self.length * self.breadth\n",
        "\n",
        "# Test\n",
        "c = Circle(5)\n",
        "r = Rectangle(4, 6)\n",
        "print(\"Circle area:\", c.area())\n",
        "print(\"Rectangle area:\", r.area())\n"
      ],
      "metadata": {
        "colab": {
          "base_uri": "https://localhost:8080/"
        },
        "id": "29D14gOzH_3m",
        "outputId": "6bf2f105-e0c9-4511-d3bb-c336a6815c09"
      },
      "execution_count": 8,
      "outputs": [
        {
          "output_type": "stream",
          "name": "stdout",
          "text": [
            "Circle area: 78.5\n",
            "Rectangle area: 24\n"
          ]
        }
      ]
    },
    {
      "cell_type": "markdown",
      "source": [
        "QUES.3\n",
        "\n",
        "ANS.."
      ],
      "metadata": {
        "id": "hLaJTN9CICOQ"
      }
    },
    {
      "cell_type": "code",
      "source": [
        "class Vehicle:\n",
        "    def __init__(self, vtype):\n",
        "        self.type = vtype\n",
        "\n",
        "class Car(Vehicle):\n",
        "    def __init__(self, vtype, fuel):\n",
        "        super().__init__(vtype)\n",
        "        self.fuel = fuel\n",
        "\n",
        "class ElectricCar(Car):\n",
        "    def __init__(self, vtype, fuel, battery):\n",
        "        super().__init__(vtype, fuel)\n",
        "        self.battery = battery\n",
        "\n",
        "# Test\n",
        "e = ElectricCar(\"Four Wheeler\", \"Electric\", \"100 kWh\")\n",
        "print(e.type, e.fuel, e.battery)\n"
      ],
      "metadata": {
        "colab": {
          "base_uri": "https://localhost:8080/"
        },
        "id": "YebZzVtjIQhs",
        "outputId": "773f6179-119f-40b6-a2ce-1c4b96ffb349"
      },
      "execution_count": 9,
      "outputs": [
        {
          "output_type": "stream",
          "name": "stdout",
          "text": [
            "Four Wheeler Electric 100 kWh\n"
          ]
        }
      ]
    },
    {
      "cell_type": "markdown",
      "source": [
        "QUES.4\n",
        "\n",
        "ANS.."
      ],
      "metadata": {
        "id": "ozandoN_Ib_3"
      }
    },
    {
      "cell_type": "code",
      "source": [
        "class Bird:\n",
        "    def fly(self):\n",
        "        print(\"Bird is flying...\")\n",
        "\n",
        "class Sparrow(Bird):\n",
        "    def fly(self):\n",
        "        print(\"Sparrow flies high in the sky\")\n",
        "\n",
        "class Penguin(Bird):\n",
        "    def fly(self):\n",
        "        print(\"Penguins cannot fly\")\n",
        "\n",
        "# Test\n",
        "birds = [Bird(), Sparrow(), Penguin()]\n",
        "for b in birds:\n",
        "    b.fly()\n"
      ],
      "metadata": {
        "colab": {
          "base_uri": "https://localhost:8080/"
        },
        "id": "9EIMLiEyIgrg",
        "outputId": "970b4c4e-227a-47aa-89ed-05fc9f2cb273"
      },
      "execution_count": 10,
      "outputs": [
        {
          "output_type": "stream",
          "name": "stdout",
          "text": [
            "Bird is flying...\n",
            "Sparrow flies high in the sky\n",
            "Penguins cannot fly\n"
          ]
        }
      ]
    },
    {
      "cell_type": "markdown",
      "source": [
        "QUES.5\n",
        "\n",
        "ANS.."
      ],
      "metadata": {
        "id": "IA1-k6MLIiUx"
      }
    },
    {
      "cell_type": "code",
      "source": [
        "class BankAccount:\n",
        "    def __init__(self, balance=0):\n",
        "        self.__balance = balance   # private attribute\n",
        "\n",
        "    def deposit(self, amount):\n",
        "        self.__balance += amount\n",
        "\n",
        "    def withdraw(self, amount):\n",
        "        if amount <= self.__balance:\n",
        "            self.__balance -= amount\n",
        "        else:\n",
        "            print(\"Insufficient balance\")\n",
        "\n",
        "    def get_balance(self):\n",
        "        return self.__balance\n",
        "\n",
        "# Test\n",
        "acc = BankAccount(1000)\n",
        "acc.deposit(500)\n",
        "acc.withdraw(200)\n",
        "print(\"Balance:\", acc.get_balance())\n"
      ],
      "metadata": {
        "colab": {
          "base_uri": "https://localhost:8080/"
        },
        "id": "fcaMk-UuImw4",
        "outputId": "255c0e88-44d1-48e0-b333-4be11b1eb797"
      },
      "execution_count": 11,
      "outputs": [
        {
          "output_type": "stream",
          "name": "stdout",
          "text": [
            "Balance: 1300\n"
          ]
        }
      ]
    },
    {
      "cell_type": "markdown",
      "source": [
        "QUES.6\n",
        "\n",
        "ANS.."
      ],
      "metadata": {
        "id": "-7ITx3TcIo6_"
      }
    },
    {
      "cell_type": "code",
      "source": [
        "class Instrument:\n",
        "    def play(self):\n",
        "        print(\"Instrument is playing...\")\n",
        "\n",
        "class Guitar(Instrument):\n",
        "    def play(self):\n",
        "        print(\"Guitar is strumming...\")\n",
        "\n",
        "class Piano(Instrument):\n",
        "    def play(self):\n",
        "        print(\"Piano is playing...\")\n",
        "\n",
        "# Test\n",
        "instruments = [Instrument(), Guitar(), Piano()]\n",
        "for inst in instruments:\n",
        "    inst.play()\n"
      ],
      "metadata": {
        "colab": {
          "base_uri": "https://localhost:8080/"
        },
        "id": "238yeP0nItha",
        "outputId": "1ee8cba7-e019-466d-8e58-ab1211ac61ae"
      },
      "execution_count": 12,
      "outputs": [
        {
          "output_type": "stream",
          "name": "stdout",
          "text": [
            "Instrument is playing...\n",
            "Guitar is strumming...\n",
            "Piano is playing...\n"
          ]
        }
      ]
    },
    {
      "cell_type": "markdown",
      "source": [
        "QUES.7\n",
        "\n",
        "ANS.."
      ],
      "metadata": {
        "id": "w7UV7EXcIvVt"
      }
    },
    {
      "cell_type": "code",
      "source": [
        "class MathOperations:\n",
        "    @classmethod\n",
        "    def add_numbers(cls, a, b):\n",
        "        return a + b\n",
        "\n",
        "    @staticmethod\n",
        "    def subtract_numbers(a, b):\n",
        "        return a - b\n",
        "\n",
        "# Test\n",
        "print(\"Addition:\", MathOperations.add_numbers(10, 5))\n",
        "print(\"Subtraction:\", MathOperations.subtract_numbers(10, 5))\n"
      ],
      "metadata": {
        "colab": {
          "base_uri": "https://localhost:8080/"
        },
        "id": "3i_ZyF_CIz37",
        "outputId": "8677503b-5a69-41b5-de85-3d37227165b4"
      },
      "execution_count": 13,
      "outputs": [
        {
          "output_type": "stream",
          "name": "stdout",
          "text": [
            "Addition: 15\n",
            "Subtraction: 5\n"
          ]
        }
      ]
    },
    {
      "cell_type": "markdown",
      "source": [
        "QUES.8\n",
        "\n",
        "ANS.."
      ],
      "metadata": {
        "id": "IiaQJae8I2Ik"
      }
    },
    {
      "cell_type": "code",
      "source": [
        "class Person:\n",
        "    count = 0   # class variable\n",
        "\n",
        "    def __init__(self, name):\n",
        "        self.name = name\n",
        "        Person.count += 1\n",
        "\n",
        "    @classmethod\n",
        "    def total_persons(cls):\n",
        "        return cls.count\n",
        "\n",
        "# Test\n",
        "p1 = Person(\"A\")\n",
        "p2 = Person(\"B\")\n",
        "p3 = Person(\"C\")\n",
        "\n",
        "print(\"Total persons created:\", Person.total_persons())\n"
      ],
      "metadata": {
        "colab": {
          "base_uri": "https://localhost:8080/"
        },
        "id": "MEo-4hqYI6zL",
        "outputId": "ef32aa08-54b3-4f75-bcd0-524be31b0097"
      },
      "execution_count": 14,
      "outputs": [
        {
          "output_type": "stream",
          "name": "stdout",
          "text": [
            "Total persons created: 3\n"
          ]
        }
      ]
    },
    {
      "cell_type": "markdown",
      "source": [
        "QUES.9\n",
        "\n",
        "ANS.."
      ],
      "metadata": {
        "id": "5K3QbMLBI-9p"
      }
    },
    {
      "cell_type": "code",
      "source": [
        "class Fraction:\n",
        "    def __init__(self, numerator, denominator):\n",
        "        if denominator == 0:\n",
        "            raise ValueError(\"Denominator cannot be zero\")\n",
        "        self.numerator = numerator\n",
        "        self.denominator = denominator\n",
        "\n",
        "    def __str__(self):\n",
        "        return f\"{self.numerator}/{self.denominator}\"\n",
        "\n",
        "# Test\n",
        "f1 = Fraction(3, 4)\n",
        "f2 = Fraction(7, 2)\n",
        "print(f1)   # Output: 3/4\n",
        "print(f2)   # Output: 7/2\n"
      ],
      "metadata": {
        "colab": {
          "base_uri": "https://localhost:8080/"
        },
        "id": "3sEgsmFcJKLh",
        "outputId": "41c5242a-2dbf-47cf-ea14-9f7d92da37ec"
      },
      "execution_count": 15,
      "outputs": [
        {
          "output_type": "stream",
          "name": "stdout",
          "text": [
            "3/4\n",
            "7/2\n"
          ]
        }
      ]
    },
    {
      "cell_type": "markdown",
      "source": [
        "QUES.10\n",
        "\n",
        "ANS.."
      ],
      "metadata": {
        "id": "nqQiQsvMJMMO"
      }
    },
    {
      "cell_type": "code",
      "source": [
        "class Vector:\n",
        "    def __init__(self, x, y):\n",
        "        self.x, self.y = x, y\n",
        "    def __add__(self, other):\n",
        "        return Vector(self.x + other.x, self.y + other.y)\n",
        "    def __str__(self):\n",
        "        return f\"({self.x}, {self.y})\"\n"
      ],
      "metadata": {
        "id": "djivCsFyJOsa"
      },
      "execution_count": 16,
      "outputs": []
    },
    {
      "cell_type": "markdown",
      "source": [
        "QUES.11\n",
        "\n",
        "ANS.."
      ],
      "metadata": {
        "id": "DA95OMdmJV0J"
      }
    },
    {
      "cell_type": "code",
      "source": [
        "class Person:\n",
        "    def __init__(self, name, age):\n",
        "        self.name = name\n",
        "        self.age = age\n",
        "\n",
        "    def greet(self):\n",
        "        print(f\"Hello, my name is {self.name} and I am {self.age} years old.\")\n",
        "\n",
        "# Test\n",
        "p1 = Person(\"Riya\", 22)\n",
        "p1.greet()\n"
      ],
      "metadata": {
        "colab": {
          "base_uri": "https://localhost:8080/"
        },
        "id": "5H0PNtz-Jkks",
        "outputId": "f8e3b517-001f-4a79-e374-a6d0668cebb0"
      },
      "execution_count": 17,
      "outputs": [
        {
          "output_type": "stream",
          "name": "stdout",
          "text": [
            "Hello, my name is Riya and I am 22 years old.\n"
          ]
        }
      ]
    },
    {
      "cell_type": "markdown",
      "source": [
        "QUES.12\n",
        "\n",
        "ANS.."
      ],
      "metadata": {
        "id": "I47cuOR-JvjJ"
      }
    },
    {
      "cell_type": "code",
      "source": [
        "class Student:\n",
        "    def __init__(self, name, grades):\n",
        "        self.name = name\n",
        "        self.grades = grades\n",
        "\n",
        "    def average_grade(self):\n",
        "        return sum(self.grades) / len(self.grades)\n",
        "\n",
        "# Test\n",
        "s1 = Student(\"Aman\", [80, 90, 85])\n",
        "print(f\"{s1.name}'s average grade:\", s1.average_grade())\n"
      ],
      "metadata": {
        "colab": {
          "base_uri": "https://localhost:8080/"
        },
        "id": "EbJQfe3QJyUN",
        "outputId": "b2a4274c-1d9f-4e36-a3db-c676172a0264"
      },
      "execution_count": 18,
      "outputs": [
        {
          "output_type": "stream",
          "name": "stdout",
          "text": [
            "Aman's average grade: 85.0\n"
          ]
        }
      ]
    },
    {
      "cell_type": "markdown",
      "source": [
        "QUES.13\n",
        "\n",
        "ANS,,"
      ],
      "metadata": {
        "id": "qyFZAC5oJ2RX"
      }
    },
    {
      "cell_type": "code",
      "source": [
        "class Rectangle:\n",
        "    def __init__(self):\n",
        "        self.length = 0\n",
        "        self.breadth = 0\n",
        "\n",
        "    def set_dimensions(self, length, breadth):\n",
        "        self.length = length\n",
        "        self.breadth = breadth\n",
        "\n",
        "    def area(self):\n",
        "        return self.length * self.breadth\n",
        "\n",
        "# Test\n",
        "rect = Rectangle()\n",
        "rect.set_dimensions(5, 4)\n",
        "print(\"Area of rectangle:\", rect.area())\n"
      ],
      "metadata": {
        "colab": {
          "base_uri": "https://localhost:8080/"
        },
        "id": "_oaJgpyXJ5oc",
        "outputId": "9c494bb3-086d-4e32-b94d-5234fb8a32a5"
      },
      "execution_count": 19,
      "outputs": [
        {
          "output_type": "stream",
          "name": "stdout",
          "text": [
            "Area of rectangle: 20\n"
          ]
        }
      ]
    },
    {
      "cell_type": "markdown",
      "source": [
        "QUES.14\n",
        "\n",
        "ANS.."
      ],
      "metadata": {
        "id": "E-Ttr5tkJ-Hr"
      }
    },
    {
      "cell_type": "code",
      "source": [
        "class Employee:\n",
        "    def __init__(self, hours_worked, hourly_rate):\n",
        "        self.hours_worked = hours_worked\n",
        "        self.hourly_rate = hourly_rate\n",
        "\n",
        "    def calculate_salary(self):\n",
        "        return self.hours_worked * self.hourly_rate\n",
        "\n",
        "class Manager(Employee):\n",
        "    def __init__(self, hours_worked, hourly_rate, bonus):\n",
        "        super().__init__(hours_worked, hourly_rate)\n",
        "        self.bonus = bonus\n",
        "\n",
        "    def calculate_salary(self):\n",
        "        return super().calculate_salary() + self.bonus\n",
        "\n",
        "# Test\n",
        "emp = Employee(40, 200)\n",
        "mgr = Manager(40, 300, 5000)\n",
        "print(\"Employee Salary:\", emp.calculate_salary())\n",
        "print(\"Manager Salary:\", mgr.calculate_salary())\n"
      ],
      "metadata": {
        "colab": {
          "base_uri": "https://localhost:8080/"
        },
        "id": "m8xllxgxKBKx",
        "outputId": "c04cc1ce-0ff0-4e18-ae83-2554232f52a8"
      },
      "execution_count": 20,
      "outputs": [
        {
          "output_type": "stream",
          "name": "stdout",
          "text": [
            "Employee Salary: 8000\n",
            "Manager Salary: 17000\n"
          ]
        }
      ]
    },
    {
      "cell_type": "markdown",
      "source": [
        "QUES.15\n",
        "\n",
        "ANS.."
      ],
      "metadata": {
        "id": "vQPIothgKGEH"
      }
    },
    {
      "cell_type": "code",
      "source": [
        "class Product:\n",
        "    def __init__(self, name, price, quantity):\n",
        "        self.name = name\n",
        "        self.price = price\n",
        "        self.quantity = quantity\n",
        "\n",
        "    def total_price(self):\n",
        "        return self.price * self.quantity\n",
        "\n",
        "# Test\n",
        "p1 = Product(\"Laptop\", 50000, 2)\n",
        "print(\"Total price:\", p1.total_price())\n"
      ],
      "metadata": {
        "colab": {
          "base_uri": "https://localhost:8080/"
        },
        "id": "66YwzyTVKKZ_",
        "outputId": "d56b3fb3-a30c-4291-c80b-ece5cd9a99d4"
      },
      "execution_count": 21,
      "outputs": [
        {
          "output_type": "stream",
          "name": "stdout",
          "text": [
            "Total price: 100000\n"
          ]
        }
      ]
    },
    {
      "cell_type": "markdown",
      "source": [
        "QUES.16\n",
        "\n",
        "ANS.."
      ],
      "metadata": {
        "id": "o2Kmiq6GKN8o"
      }
    },
    {
      "cell_type": "code",
      "source": [
        "from abc import ABC, abstractmethod\n",
        "\n",
        "class Animal(ABC):\n",
        "    @abstractmethod\n",
        "    def sound(self):\n",
        "        pass\n",
        "\n",
        "class Cow(Animal):\n",
        "    def sound(self):\n",
        "        return \"Moo\"\n",
        "\n",
        "class Sheep(Animal):\n",
        "    def sound(self):\n",
        "        return \"Baa\"\n",
        "\n",
        "# Test\n",
        "cow = Cow()\n",
        "sheep = Sheep()\n",
        "print(\"Cow sound:\", cow.sound())\n",
        "print(\"Sheep sound:\", sheep.sound())\n"
      ],
      "metadata": {
        "colab": {
          "base_uri": "https://localhost:8080/"
        },
        "id": "7CSeehwxKRDH",
        "outputId": "9e3b587c-45a7-4f31-dcf6-ad4222d1438e"
      },
      "execution_count": 22,
      "outputs": [
        {
          "output_type": "stream",
          "name": "stdout",
          "text": [
            "Cow sound: Moo\n",
            "Sheep sound: Baa\n"
          ]
        }
      ]
    },
    {
      "cell_type": "markdown",
      "source": [
        "QUES.17\n",
        "\n",
        "ANS.."
      ],
      "metadata": {
        "id": "AYpb2I9pKVLJ"
      }
    },
    {
      "cell_type": "code",
      "source": [
        "class Book:\n",
        "    def __init__(self, title, author, year_published):\n",
        "        self.title = title\n",
        "        self.author = author\n",
        "        self.year_published = year_published\n",
        "\n",
        "    def get_book_info(self):\n",
        "        return f\"{self.title} by {self.author}, published in {self.year_published}\"\n",
        "\n",
        "# Test\n",
        "b1 = Book(\"Python Basics\", \"John Doe\", 2020)\n",
        "print(b1.get_book_info())\n"
      ],
      "metadata": {
        "colab": {
          "base_uri": "https://localhost:8080/"
        },
        "id": "MSeS-7FsKYim",
        "outputId": "578def38-6fa6-4fc9-91f0-7268949e7e31"
      },
      "execution_count": 23,
      "outputs": [
        {
          "output_type": "stream",
          "name": "stdout",
          "text": [
            "Python Basics by John Doe, published in 2020\n"
          ]
        }
      ]
    },
    {
      "cell_type": "markdown",
      "source": [
        "QUES.18\n",
        "\n",
        "ANS.."
      ],
      "metadata": {
        "id": "gKIvji-dKcjT"
      }
    },
    {
      "cell_type": "code",
      "source": [
        "class House:\n",
        "    def __init__(self, address, price):\n",
        "        self.address = address\n",
        "        self.price = price\n",
        "\n",
        "class Mansion(House):\n",
        "    def __init__(self, address, price, number_of_rooms):\n",
        "        super().__init__(address, price)\n",
        "        self.number_of_rooms = number_of_rooms\n",
        "\n",
        "# Test\n",
        "m = Mansion(\"123 Street, Delhi\", 20000000, 10)\n",
        "print(f\"Address: {m.address}, Price: {m.price}, Rooms: {m.number_of_rooms}\")\n"
      ],
      "metadata": {
        "colab": {
          "base_uri": "https://localhost:8080/"
        },
        "id": "7RfJmkbiKiZm",
        "outputId": "e2ae2347-2ac8-4ab5-c36b-2c3a1bb45a8a"
      },
      "execution_count": 24,
      "outputs": [
        {
          "output_type": "stream",
          "name": "stdout",
          "text": [
            "Address: 123 Street, Delhi, Price: 20000000, Rooms: 10\n"
          ]
        }
      ]
    },
    {
      "cell_type": "markdown",
      "source": [
        "# *THANKYOU FOR ASSIGNMENT.."
      ],
      "metadata": {
        "id": "b9n5nmP6Kkjf"
      }
    }
  ]
}